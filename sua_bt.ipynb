{
 "cells": [
  {
   "cell_type": "code",
   "execution_count": 10,
   "metadata": {},
   "outputs": [],
   "source": [
    "from cv2 import mean\n",
    "import numpy as np \n",
    "import cv2 \n",
    "\n",
    "img =  cv2.imread(\"anchor.png\", cv2.IMREAD_GRAYSCALE)\n",
    "b_img = cv2.threshold(img, 150, 255 , cv2.THRESH_BINARY)[1]\n",
    "w = b_img.shape[1]\n",
    "h = b_img.shape[0]\n",
    "mean_y = np.mean(b_img, axis=1)\n",
    "y1 = np.min(np.where(mean_y>150))\n",
    "y2 = np.max(np.where(mean_y>150))\n",
    "\n",
    "\n",
    "mean_x = np.mean(b_img, axis=0)\n",
    "x1 = np.min(np.where(mean_x>0))\n",
    "x2 = np.min(np.where((mean_x>0) & (mean_x<120)))\n",
    "x3 = np.max(np.where((mean_x>0) & (mean_x<120)))\n",
    "x4 = np.max(np.where(mean_x>0))\n",
    "\n",
    "new_img = np.zeros((h,w), dtype=np.uint8)\n",
    "\n",
    "new_img[y1:y2, x1:x2] = 255\n",
    "new_img[y1:y2, x3:x4] = 255\n",
    "\n",
    "cv2.imshow(\"new\", new_img)\n",
    "cv2.waitKey(0)\n",
    "cv2.destroyAllWindows()\n",
    "\n"
   ]
  },
  {
   "cell_type": "code",
   "execution_count": 28,
   "metadata": {},
   "outputs": [],
   "source": [
    "from cv2 import mean\n",
    "import numpy as np \n",
    "import cv2 \n",
    "\n",
    "img =  cv2.imread(\"anchor.png\", cv2.IMREAD_GRAYSCALE)\n",
    "b_img = cv2.threshold(img, 150, 255 , cv2.THRESH_BINARY)[1]\n",
    "w = b_img.shape[1]\n",
    "h = b_img.shape[0]\n",
    "mean_y = np.mean(b_img, axis=1)\n",
    "y1 = np.min(np.where(mean_y>150))\n",
    "y2 = np.max(np.where(mean_y>150))\n",
    "y0 = np.min(np.where(mean_y>0))\n",
    "\n",
    "mean_x = np.mean(b_img, axis=0)\n",
    "x1 = np.min(np.where(mean_x>0))\n",
    "x2 = np.min(np.where((mean_x>0) & (mean_x<120)))\n",
    "x3 = np.max(np.where((mean_x>0) & (mean_x<120)))\n",
    "x4 = np.max(np.where(mean_x>0))\n",
    "\n",
    "new_img_b = np.zeros((h,w), dtype=np.uint8)\n",
    "\n",
    "new_img_b[y0:y2, x1:x2] = 255\n",
    "new_img_b[y0:y2, x3:x4] = 255\n",
    "kernel =  cv2.getStructuringElement(cv2.MORPH_ELLIPSE, (3,3))\n",
    "b = cv2.erode(new_img_b, kernel,iterations=20)\n",
    "\n",
    "cv2.imshow(\"new\", new_img_b)\n",
    "cv2.imshow(\"b\", b)\n",
    "cv2.waitKey(0)\n",
    "cv2.destroyAllWindows()\n",
    "\n"
   ]
  },
  {
   "cell_type": "code",
   "execution_count": null,
   "metadata": {},
   "outputs": [],
   "source": []
  },
  {
   "cell_type": "code",
   "execution_count": null,
   "metadata": {},
   "outputs": [],
   "source": []
  }
 ],
 "metadata": {
  "kernelspec": {
   "display_name": "Python 3.10.4 64-bit",
   "language": "python",
   "name": "python3"
  },
  "language_info": {
   "codemirror_mode": {
    "name": "ipython",
    "version": 3
   },
   "file_extension": ".py",
   "mimetype": "text/x-python",
   "name": "python",
   "nbconvert_exporter": "python",
   "pygments_lexer": "ipython3",
   "version": "3.10.4"
  },
  "orig_nbformat": 4,
  "vscode": {
   "interpreter": {
    "hash": "31ca1d8e2757b62ce03346936515128aee50d02fa28a1f28f1e5adb83409ac57"
   }
  }
 },
 "nbformat": 4,
 "nbformat_minor": 2
}
