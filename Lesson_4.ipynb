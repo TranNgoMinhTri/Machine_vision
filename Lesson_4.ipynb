{
 "cells": [
  {
   "cell_type": "code",
   "execution_count": 25,
   "metadata": {},
   "outputs": [],
   "source": [
    "from traceback import print_tb\n",
    "from cv2 import DIST_L2, mean\n",
    "import numpy as np \n",
    "import cv2 \n",
    "\n",
    "img  =  cv2.imread(\"2cell.jpg\", cv2.IMREAD_GRAYSCALE)\n",
    "\n",
    "b_img = cv2.threshold(img, 150,255,cv2.THRESH_BINARY)[1]\n",
    "\n",
    "dist_img = cv2.distanceTransform(b_img,cv2.DIST_L2,3)\n",
    "cv2.normalize(dist_img, dist_img, 0,1,cv2.NORM_MINMAX)\n",
    "out = cv2.threshold(dist_img, 0.75,255,cv2.THRESH_BINARY)[1] \n",
    "\n",
    "\n",
    "cv2.imshow(\"dis\", dist_img)\n",
    "cv2.imshow(\"out\", out)\n",
    "cv2.waitKey(0)\n",
    "cv2.destroyAllWindows()"
   ]
  },
  {
   "cell_type": "code",
   "execution_count": 3,
   "metadata": {},
   "outputs": [
    {
     "ename": "error",
     "evalue": "OpenCV(4.6.0) D:\\a\\opencv-python\\opencv-python\\opencv\\modules\\imgproc\\src\\segmentation.cpp:161: error: (-215:Assertion failed) src.type() == CV_8UC3 && dst.type() == CV_32SC1 in function 'cv::watershed'\n",
     "output_type": "error",
     "traceback": [
      "\u001b[1;31m---------------------------------------------------------------------------\u001b[0m",
      "\u001b[1;31merror\u001b[0m                                     Traceback (most recent call last)",
      "\u001b[1;32mc:\\Users\\trann\\Desktop\\MACHINE VISION\\Lesson_4.ipynb Cell 2\u001b[0m in \u001b[0;36m<cell line: 17>\u001b[1;34m()\u001b[0m\n\u001b[0;32m     <a href='vscode-notebook-cell:/c%3A/Users/trann/Desktop/MACHINE%20VISION/Lesson_4.ipynb#W1sZmlsZQ%3D%3D?line=13'>14</a>\u001b[0m out \u001b[39m=\u001b[39m np\u001b[39m.\u001b[39marray(out, dtype\u001b[39m=\u001b[39mnp\u001b[39m.\u001b[39muint8)\n\u001b[0;32m     <a href='vscode-notebook-cell:/c%3A/Users/trann/Desktop/MACHINE%20VISION/Lesson_4.ipynb#W1sZmlsZQ%3D%3D?line=15'>16</a>\u001b[0m contours \u001b[39m=\u001b[39m cv2\u001b[39m.\u001b[39mfindContours(out, cv2\u001b[39m.\u001b[39mRETR_EXTERNAL, cv2\u001b[39m.\u001b[39mCHAIN_APPROX_SIMPLE)[\u001b[39m0\u001b[39m]\n\u001b[1;32m---> <a href='vscode-notebook-cell:/c%3A/Users/trann/Desktop/MACHINE%20VISION/Lesson_4.ipynb#W1sZmlsZQ%3D%3D?line=16'>17</a>\u001b[0m wt \u001b[39m=\u001b[39m cv2\u001b[39m.\u001b[39;49mwatershed(img_1, out)\n\u001b[0;32m     <a href='vscode-notebook-cell:/c%3A/Users/trann/Desktop/MACHINE%20VISION/Lesson_4.ipynb#W1sZmlsZQ%3D%3D?line=17'>18</a>\u001b[0m cv2\u001b[39m.\u001b[39mimshow(\u001b[39m\"\u001b[39m\u001b[39mbinary\u001b[39m\u001b[39m\"\u001b[39m, b_img)\n\u001b[0;32m     <a href='vscode-notebook-cell:/c%3A/Users/trann/Desktop/MACHINE%20VISION/Lesson_4.ipynb#W1sZmlsZQ%3D%3D?line=18'>19</a>\u001b[0m cv2\u001b[39m.\u001b[39mimshow(\u001b[39m\"\u001b[39m\u001b[39mdist\u001b[39m\u001b[39m\"\u001b[39m, dist_img)\n",
      "\u001b[1;31merror\u001b[0m: OpenCV(4.6.0) D:\\a\\opencv-python\\opencv-python\\opencv\\modules\\imgproc\\src\\segmentation.cpp:161: error: (-215:Assertion failed) src.type() == CV_8UC3 && dst.type() == CV_32SC1 in function 'cv::watershed'\n"
     ]
    }
   ],
   "source": [
    "from traceback import print_tb\n",
    "from cv2 import DIST_L2, mean\n",
    "import numpy as np \n",
    "import cv2 \n",
    "\n",
    "img  =  cv2.imread(\"coin.png\", cv2.IMREAD_COLOR)\n",
    "img_1 = cv2.imread(\"coin.png\", cv2.IMREAD_GRAYSCALE)\n",
    "g_img = cv2.GaussianBlur(img_1,(3,3),0)\n",
    "b_img = cv2.threshold(g_img, 150,255,cv2.THRESH_BINARY_INV)[1]\n",
    "\n",
    "dist_img = cv2.distanceTransform(b_img,cv2.DIST_L2,3)\n",
    "cv2.normalize(dist_img, dist_img, 0,1,cv2.NORM_MINMAX)\n",
    "out = cv2.threshold(dist_img, 0.55,255,cv2.THRESH_BINARY)[1]    \n",
    "out = np.array(out, dtype=np.uint8)\n",
    "\n",
    "contours = cv2.findContours(out, cv2.RETR_EXTERNAL, cv2.CHAIN_APPROX_SIMPLE)[0]\n",
    "wt = cv2.watershed(img_1, out)\n",
    "cv2.imshow(\"binary\", b_img)\n",
    "cv2.imshow(\"dist\", dist_img)\n",
    "cv2.imshow(\"out\", out)\n",
    "cv2.imshow(\"color\", img)\n",
    "print(len(contours))\n",
    "cv2.waitKey(0)\n",
    "cv2.destroyAllWindows()\n",
    "\n",
    "\n"
   ]
  },
  {
   "cell_type": "code",
   "execution_count": 53,
   "metadata": {},
   "outputs": [
    {
     "ename": "TypeError",
     "evalue": "'int' object is not callable",
     "output_type": "error",
     "traceback": [
      "\u001b[1;31m---------------------------------------------------------------------------\u001b[0m",
      "\u001b[1;31mTypeError\u001b[0m                                 Traceback (most recent call last)",
      "\u001b[1;32mc:\\Users\\trann\\Desktop\\MACHINE VISION\\lesson_4.ipynb Cell 3\u001b[0m in \u001b[0;36m<cell line: 2>\u001b[1;34m()\u001b[0m\n\u001b[0;32m      <a href='vscode-notebook-cell:/c%3A/Users/trann/Desktop/MACHINE%20VISION/lesson_4.ipynb#W3sZmlsZQ%3D%3D?line=0'>1</a>\u001b[0m list_a \u001b[39m=\u001b[39m [[\u001b[39m1\u001b[39m,\u001b[39m2\u001b[39m], [\u001b[39m3\u001b[39m,\u001b[39m4\u001b[39m]]\n\u001b[1;32m----> <a href='vscode-notebook-cell:/c%3A/Users/trann/Desktop/MACHINE%20VISION/lesson_4.ipynb#W3sZmlsZQ%3D%3D?line=1'>2</a>\u001b[0m a \u001b[39m=\u001b[39m cv2\u001b[39m.\u001b[39;49mRANSAC(list_a)\n",
      "\u001b[1;31mTypeError\u001b[0m: 'int' object is not callable"
     ]
    }
   ],
   "source": [
    "list_a = [[1,2], [3,4]]\n",
    "a = cv2.RANSAC(list_a)"
   ]
  },
  {
   "cell_type": "code",
   "execution_count": null,
   "metadata": {},
   "outputs": [],
   "source": []
  }
 ],
 "metadata": {
  "kernelspec": {
   "display_name": "Python 3.10.4 64-bit",
   "language": "python",
   "name": "python3"
  },
  "language_info": {
   "codemirror_mode": {
    "name": "ipython",
    "version": 3
   },
   "file_extension": ".py",
   "mimetype": "text/x-python",
   "name": "python",
   "nbconvert_exporter": "python",
   "pygments_lexer": "ipython3",
   "version": "3.10.4"
  },
  "orig_nbformat": 4,
  "vscode": {
   "interpreter": {
    "hash": "31ca1d8e2757b62ce03346936515128aee50d02fa28a1f28f1e5adb83409ac57"
   }
  }
 },
 "nbformat": 4,
 "nbformat_minor": 2
}
