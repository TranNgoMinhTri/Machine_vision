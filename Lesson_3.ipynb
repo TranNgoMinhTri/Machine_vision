{
 "cells": [
  {
   "cell_type": "code",
   "execution_count": 2,
   "metadata": {},
   "outputs": [
    {
     "name": "stdout",
     "output_type": "stream",
     "text": [
      "4.6.0\n"
     ]
    }
   ],
   "source": [
    "import cv2\n",
    "import numpy as np\n",
    "print(cv2.__version__)"
   ]
  },
  {
   "cell_type": "code",
   "execution_count": 18,
   "metadata": {},
   "outputs": [
    {
     "name": "stdout",
     "output_type": "stream",
     "text": [
      "[[1.19794559e-08]\n",
      " [2.63865076e-04]\n",
      " [1.06450769e-01]\n",
      " [7.86570707e-01]\n",
      " [1.06450769e-01]\n",
      " [2.63865076e-04]\n",
      " [1.19794559e-08]]\n"
     ]
    }
   ],
   "source": [
    "img  = cv2.imread('rice.jpg', cv2.IMREAD_GRAYSCALE)\n",
    "out_3x3 = cv2.blur(img, (3,3))\n",
    "out_7x7 = cv2.blur(img, (7,7))\n",
    "out_gauss_3x3 = cv2.GaussianBlur(img, (3,3), 0)\n",
    "out_gauss_7x7  = cv2.GaussianBlur(img, (7,7), 0)\n",
    "\n",
    "k = cv2.getGaussianKernel(7, 0.5)\n",
    "print(k)\n",
    "\n",
    "cv2.imshow(\"image_gray\", img)\n",
    "cv2.imshow(\"out_3x3\", out_3x3)\n",
    "cv2.imshow(\"out_7x7\", out_7x7)\n",
    "cv2.imshow(\"Gauss_3x3\", out_gauss_3x3)\n",
    "cv2.imshow(\"Gauss_7x7\", out_gauss_7x7)\n",
    "cv2.waitKey(0)\n",
    "cv2.destroyAllWindows()\n"
   ]
  },
  {
   "cell_type": "code",
   "execution_count": 23,
   "metadata": {},
   "outputs": [],
   "source": [
    "img  = cv2.imread('noise1.jpg', cv2.IMREAD_GRAYSCALE)\n",
    "out_3x3 = cv2.blur(img, (3,3))\n",
    "out_7x7 = cv2.blur(img, (7,7))\n",
    "out_gauss_3x3 = cv2.GaussianBlur(img, (3,3), 0)\n",
    "out_gauss_7x7  = cv2.GaussianBlur(img, (7,7), 0)\n",
    "out_me_3x3 = cv2.medianBlur(img, 3)\n",
    "out_me_7x7 = cv2.medianBlur(img, 7)\n",
    "\n",
    "# k = cv2.getGaussianKernel(7, 0.5)\n",
    "# print(k)\n",
    "\n",
    "cv2.imshow(\"image_gray\", img)\n",
    "cv2.imshow(\"out_3x3\", out_3x3)\n",
    "cv2.imshow(\"out_7x7\", out_7x7)\n",
    "cv2.imshow(\"Gauss_3x3\", out_gauss_3x3)\n",
    "cv2.imshow(\"Gauss_7x7\", out_gauss_7x7)\n",
    "cv2.imshow(\"Median_3x3\", out_me_3x3)\n",
    "cv2.imshow(\"Median_7x7\", out_me_7x7)\n",
    "\n",
    "cv2.waitKey(0)\n",
    "cv2.destroyAllWindows()\n"
   ]
  },
  {
   "cell_type": "code",
   "execution_count": 25,
   "metadata": {},
   "outputs": [
    {
     "name": "stdout",
     "output_type": "stream",
     "text": [
      "[[0 0 0 1 0 0 0]\n",
      " [0 0 0 1 0 0 0]\n",
      " [0 0 0 1 0 0 0]\n",
      " [1 1 1 1 1 1 1]\n",
      " [0 0 0 1 0 0 0]\n",
      " [0 0 0 1 0 0 0]\n",
      " [0 0 0 1 0 0 0]]\n"
     ]
    }
   ],
   "source": [
    "#morphology \n",
    "img  = cv2.imread('Small_holes.jpg', cv2.IMREAD_GRAYSCALE)\n",
    "threshold = 150\n",
    "_,img_thre = cv2.threshold(img, threshold,255 , cv2.THRESH_BINARY)\n",
    "\n",
    "kernel = np.ones((3,3), dtype=np.uint8)\n",
    "kernel2 =  cv2.getStructuringElement(cv2.MORPH_CROSS, (7,7))\n",
    "\n",
    "out  = cv2.erode(img_thre, kernel=kernel, iterations=5)\n",
    "out2  = cv2.erode(img_thre, kernel=kernel2, iterations=2)\n",
    "out3  = cv2.erode(img_thre, kernel=kernel2,anchor=(2,2), iterations=2)\n",
    "\n",
    "print(kernel2)\n",
    "cv2.imshow(\"img\", img)\n",
    "cv2.imshow(\"out\", out)\n",
    "cv2.imshow(\"out_2\", out2)\n",
    "cv2.imshow(\"out_3\", out3)\n",
    "cv2.waitKey(0)\n",
    "cv2.destroyAllWindows()"
   ]
  },
  {
   "cell_type": "code",
   "execution_count": 30,
   "metadata": {},
   "outputs": [
    {
     "name": "stdout",
     "output_type": "stream",
     "text": [
      "[[0 0 0 1 0 0 0]\n",
      " [0 0 0 1 0 0 0]\n",
      " [0 0 0 1 0 0 0]\n",
      " [1 1 1 1 1 1 1]\n",
      " [0 0 0 1 0 0 0]\n",
      " [0 0 0 1 0 0 0]\n",
      " [0 0 0 1 0 0 0]]\n"
     ]
    }
   ],
   "source": [
    "#morphology_Ex\n",
    "img  = cv2.imread('Small_holes.jpg', cv2.IMREAD_GRAYSCALE)\n",
    "threshold = 150\n",
    "_,img_thre = cv2.threshold(img, threshold,255 , cv2.THRESH_BINARY)\n",
    "\n",
    "\n",
    "kernel2 =  cv2.getStructuringElement(cv2.MORPH_CROSS, (7,7))\n",
    "\n",
    "out_x  = cv2.morphologyEx(img_thre, cv2.MORPH_CLOSE, kernel2, iterations=5)\n",
    "\n",
    "print(kernel2)\n",
    "cv2.imshow(\"img\", img)\n",
    "cv2.imshow(\"out_x\", out_x)\n",
    "\n",
    "cv2.waitKey(0)\n",
    "cv2.destroyAllWindows()"
   ]
  },
  {
   "cell_type": "code",
   "execution_count": 36,
   "metadata": {},
   "outputs": [
    {
     "name": "stdout",
     "output_type": "stream",
     "text": [
      "[[0 1 0]\n",
      " [1 1 1]\n",
      " [0 1 0]]\n"
     ]
    }
   ],
   "source": [
    "\n",
    "img  = cv2.imread('Salt_noise.jpg', cv2.IMREAD_GRAYSCALE)\n",
    "threshold = 150\n",
    "_,img_thre = cv2.threshold(img, threshold,255 , cv2.THRESH_BINARY)\n",
    "\n",
    "\n",
    "kernel2 =  cv2.getStructuringElement(cv2.MORPH_ELLIPSE, (3,3))\n",
    "out_x  = cv2.morphologyEx(img_thre, cv2.MORPH_OPEn, kernel2, iterations=3)\n",
    "\n",
    "print(kernel2)\n",
    "cv2.imshow(\"img\", img)\n",
    "cv2.imshow(\"out_x\", out_x)\n",
    "\n",
    "cv2.waitKey(0)\n",
    "cv2.destroyAllWindows()"
   ]
  },
  {
   "cell_type": "code",
   "execution_count": 185,
   "metadata": {},
   "outputs": [
    {
     "name": "stdout",
     "output_type": "stream",
     "text": [
      "90\n"
     ]
    }
   ],
   "source": [
    "img  = cv2.imread('rice.jpg', cv2.IMREAD_GRAYSCALE)\n",
    "img_color = cv2.imread('rice.jpg', cv2.IMREAD_COLOR)\n",
    "out_gauss_3x3 = cv2.GaussianBlur(img, (3,3),0.7)\n",
    "threshold = 125\n",
    "b_img = cv2.threshold(out_gauss_3x3,threshold, 255, cv2.THRESH_BINARY)[1]\n",
    "# kernel2 =  cv2.getStructuringElement(cv2.MORPH_ELLIPSE|, (3,3))\n",
    "# out_x  = cv2.morphologyEx(b_img, cv2.MORPH_OPEN, kernel2, iterations= 1)\n",
    "# out_1 = cv2.dilate(b_img, (3,3), iterations=5)\n",
    "out_r =  cv2.erode(b_img.copy(),(3,3), iterations=4)\n",
    "out_d = cv2.dilate(out_r, (3,3), iterations=3)\n",
    "contours = cv2.findContours(out_d.copy(),cv2.RETR_EXTERNAL, cv2.CHAIN_APPROX_SIMPLE)[0]\n",
    "\n",
    "import random\n",
    "# for i in contours:\n",
    "#     cv2.drawContours(img_color, i, -1, (random.randint(10, 255), random.randint(10, 255), random.randint(10, 255)), 3)\n",
    "for i, cnt in enumerate(contours):\n",
    "    x,y,w,h = cv2.boundingRect(cnt)\n",
    "    cv2.rectangle(img_color, (x,y), (x+w, y+h), (0,255,0))\n",
    "\n",
    "cv2.imshow(\"image_gray\", img)       \n",
    "cv2.imshow(\"Gauss_3x3\", out_gauss_3x3)\n",
    "cv2.imshow(\"BINARY\", b_img)\n",
    "cv2.imshow(\"Dilate\", out_d)\n",
    "cv2.imshow(\"Erode\", out_r)\n",
    "cv2.imshow(\"color\", img_color)\n",
    "\n",
    "cv2.waitKey(0)\n",
    "cv2.destroyAllWindows()\n",
    "print(len(contours))"
   ]
  },
  {
   "cell_type": "code",
   "execution_count": 5,
   "metadata": {},
   "outputs": [
    {
     "data": {
      "image/png": "[encoded data removed]",
      "text/plain": [
       "<Figure size 432x288 with 1 Axes>"
      ]
     },
     "metadata": {
      "needs_background": "light"
     },
     "output_type": "display_data"
    }
   ],
   "source": [
    "import numpy as np\n",
    "import cv2\n",
    "from matplotlib import pyplot as plt\n",
    "img = cv2.imread('10.PNG',cv2.IMREAD_GRAYSCALE)\n",
    "plt.hist(img.ravel(),256,[0,256])\n",
    "plt.show()"
   ]
  },
  {
   "cell_type": "code",
   "execution_count": null,
   "metadata": {},
   "outputs": [],
   "source": []
  }
 ],
 "metadata": {
  "kernelspec": {
   "display_name": "Python 3.10.4 64-bit",
   "language": "python",
   "name": "python3"
  },
  "language_info": {
   "codemirror_mode": {
    "name": "ipython",
    "version": 3
   },
   "file_extension": ".py",
   "mimetype": "text/x-python",
   "name": "python",
   "nbconvert_exporter": "python",
   "pygments_lexer": "ipython3",
   "version": "3.10.4"
  },
  "orig_nbformat": 4,
  "vscode": {
   "interpreter": {
    "hash": "31ca1d8e2757b62ce03346936515128aee50d02fa28a1f28f1e5adb83409ac57"
   }
  }
 },
 "nbformat": 4,
 "nbformat_minor": 2
}
