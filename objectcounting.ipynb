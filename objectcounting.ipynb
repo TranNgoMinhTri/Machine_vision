{
 "cells": [
  {
   "cell_type": "markdown",
   "metadata": {},
   "source": [
    "OBJECT COUNTING"
   ]
  },
  {
   "cell_type": "code",
   "execution_count": 2,
   "metadata": {},
   "outputs": [
    {
     "data": {
      "image/png": "[encoded data removed]",
      "text/plain": [
       "<Figure size 432x288 with 1 Axes>"
      ]
     },
     "metadata": {
      "needs_background": "light"
     },
     "output_type": "display_data"
    },
    {
     "name": "stdout",
     "output_type": "stream",
     "text": [
      "1.5119872093200684\n",
      "607\n"
     ]
    }
   ],
   "source": [
    "import cv2 as cv\n",
    "import numpy as np\n",
    "from matplotlib import pyplot as plt \n",
    "import time\n",
    "cTime1 = time.time()\n",
    "img = cv.imread(\"pcb.jpg\", cv.IMREAD_COLOR)\n",
    "img_gray = cv.cvtColor(img, cv.COLOR_BGR2GRAY)\n",
    "\n",
    "threshold =180\n",
    "b_img = cv.threshold(img_gray, threshold,255,cv.THRESH_BINARY )[1]\n",
    "plt.hist(img_gray.ravel(), 256, [0,256]); plt.show()\n",
    "\n",
    "contours, hierachy  = cv.findContours(b_img, cv.RETR_EXTERNAL, cv.CHAIN_APPROX_SIMPLE)\n",
    "for i,cnt in enumerate(contours):\n",
    "    if cv.contourArea(cnt) > 100:\n",
    "        x,y,w,h = cv.boundingRect(cnt)\n",
    "        cv.rectangle(img,(x,y),(x+w,y+h),(0,255,0),2)\n",
    "        #cv.putText(img, str(i+1),(x,y),cv.FONT_HERSHEY_COMPLEX,2,(255,0,255),2)\n",
    "cTime2 = time.time()\n",
    "print(cTime2- cTime1)   \n",
    "print(len(contours))\n",
    "cv.imshow(\"sample1\", img)\n",
    "cv.imshow(\"gray\", img_gray) \n",
    "cv.imshow(\"binary\", b_img)\n",
    "cv.waitKey(0)\n",
    "cv.destroyAllWindows()"
   ]
  },
  {
   "cell_type": "code",
   "execution_count": null,
   "metadata": {},
   "outputs": [],
   "source": []
  }
 ],
 "metadata": {
  "kernelspec": {
   "display_name": "Python 3.10.4 64-bit",
   "language": "python",
   "name": "python3"
  },
  "language_info": {
   "codemirror_mode": {
    "name": "ipython",
    "version": 3
   },
   "file_extension": ".py",
   "mimetype": "text/x-python",
   "name": "python",
   "nbconvert_exporter": "python",
   "pygments_lexer": "ipython3",
   "version": "3.10.4"
  },
  "orig_nbformat": 4,
  "vscode": {
   "interpreter": {
    "hash": "31ca1d8e2757b62ce03346936515128aee50d02fa28a1f28f1e5adb83409ac57"
   }
  }
 },
 "nbformat": 4,
 "nbformat_minor": 2
}
